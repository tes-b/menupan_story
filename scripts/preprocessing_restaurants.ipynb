{
 "cells": [
  {
   "cell_type": "code",
   "execution_count": 29,
   "metadata": {},
   "outputs": [],
   "source": [
    "import pandas as pd\n",
    "import os\n",
    "# import xml\n",
    "import xmltodict"
   ]
  },
  {
   "attachments": {},
   "cell_type": "markdown",
   "metadata": {},
   "source": [
    "# 1차 전처리"
   ]
  },
  {
   "cell_type": "code",
   "execution_count": 3,
   "metadata": {},
   "outputs": [],
   "source": [
    "# df_hh = pd.read_csv(\"../data/일반음식점_인허가_정보_07_24_04_P.csv\",encoding='cp949')\n",
    "# df_hh.shape\n"
   ]
  },
  {
   "cell_type": "code",
   "execution_count": 4,
   "metadata": {},
   "outputs": [],
   "source": [
    "# df_hh = df_hh[df_hh.영업상태명 != \"폐업\"]"
   ]
  },
  {
   "cell_type": "code",
   "execution_count": 5,
   "metadata": {},
   "outputs": [],
   "source": [
    "# df_hh.shape"
   ]
  },
  {
   "cell_type": "code",
   "execution_count": 6,
   "metadata": {},
   "outputs": [],
   "source": [
    "# df_hh.to_csv(\"../data/일반음식점_인허가_정보_영업중.csv\")"
   ]
  },
  {
   "attachments": {},
   "cell_type": "markdown",
   "metadata": {},
   "source": [
    "# 2차 전처리"
   ]
  },
  {
   "cell_type": "code",
   "execution_count": 7,
   "metadata": {},
   "outputs": [],
   "source": [
    "# df_hh = pd.read_csv(\"../data/일반음식점_인허가_정보_영업중.csv\",index_col=0)\n",
    "# print(df_hh.shape)\n",
    "# df_hh.head()"
   ]
  },
  {
   "cell_type": "code",
   "execution_count": 8,
   "metadata": {},
   "outputs": [],
   "source": [
    "# df_hh.info()"
   ]
  },
  {
   "cell_type": "code",
   "execution_count": 9,
   "metadata": {},
   "outputs": [],
   "source": [
    "# list_col = [\n",
    "# # \"번호\",\n",
    "# \"개방자치단체코드\",\n",
    "# # \"영업상태구분코드\",\n",
    "# # \"영업상태명\",\n",
    "# # \"상세영업상태코드\",\n",
    "# # \"상세영업상태명\",\n",
    "# # \"소재지전화\",\n",
    "# \"소재지면적\",\n",
    "# # \"소재지우편번호\",\n",
    "# \"소재지전체주소\",\n",
    "# # \"도로명전체주소\",\n",
    "# # \"도로명우편번호\",\n",
    "# \"사업장명\",\n",
    "# \"업태구분명\",\n",
    "# \"좌표정보(x)\",\n",
    "# \"좌표정보(y)\",\n",
    "# \"위생업태명\",\n",
    "# # \"남성종사자수\",\n",
    "# # \"여성종사자수\",\n",
    "# \"영업장주변구분명\",\n",
    "# # \"등급구분명\",\n",
    "# # \"급수시설구분명\",\n",
    "# # \"총직원수\",\n",
    "# # \"본사직원수\",\n",
    "# # \"건물소유구분명\",\n",
    "# \"보증액\",\n",
    "# \"월세액\",\n",
    "# # \"다중이용업소여부\",\n",
    "# \"시설총규모\",\n",
    "# # \"전통업소지정번호\",\n",
    "# # \"전통업소주된음식\",\n",
    "# ]"
   ]
  },
  {
   "cell_type": "code",
   "execution_count": 10,
   "metadata": {},
   "outputs": [],
   "source": [
    "# df_res = df_hh[list_col]\n",
    "# # df_res = df_hh.set_index(\"번호\")\n",
    "# df_res = df_res.dropna(subset=[\"소재지전체주소\",\"사업장명\"]).reset_index(drop=True)\n",
    "# df_res.head()"
   ]
  },
  {
   "cell_type": "code",
   "execution_count": 11,
   "metadata": {},
   "outputs": [],
   "source": [
    "# def split_addr(x):\n",
    "#     addr = x.split()\n",
    "#     # print(addr)\n",
    "#     # df = pd.DataFrame(columns=[\"시도\",\"시구\",\"동읍면\"])\n",
    "#     if addr[0] == \"세종특별자치시\":\n",
    "#         return addr[0], None, addr[1]\n",
    "#     elif addr[0][-1] != \"도\" and addr[0][-1] != \"시\":\n",
    "#         return None, None, None\n",
    "#     else:\n",
    "#         return addr[0], addr[1], addr[2]\n",
    "        "
   ]
  },
  {
   "cell_type": "code",
   "execution_count": 12,
   "metadata": {},
   "outputs": [],
   "source": [
    "# str_test = \"세종특별자치 고운동 2002\"\n",
    "# split_addr(str_test)"
   ]
  },
  {
   "cell_type": "code",
   "execution_count": 13,
   "metadata": {},
   "outputs": [],
   "source": [
    "# df_res[\"시도\"],df_res[\"시구\"],df_res[\"동읍면\"] = zip(*df_res[\"소재지전체주소\"].map(split_addr))\n",
    "# df_res.head()"
   ]
  },
  {
   "cell_type": "code",
   "execution_count": 14,
   "metadata": {},
   "outputs": [],
   "source": [
    "# df_res = df_res.dropna(subset=\"시도\")\n",
    "# df_res.shape"
   ]
  },
  {
   "cell_type": "code",
   "execution_count": 15,
   "metadata": {},
   "outputs": [],
   "source": [
    "# list_col_order = [\n",
    "# \"사업장명\",\n",
    "# \"업태구분명\",\n",
    "# \"위생업태명\",\n",
    "# \"소재지전체주소\",\n",
    "# \"시도\",\n",
    "# \"시구\",\n",
    "# \"동읍면\",\n",
    "# \"개방자치단체코드\",\n",
    "# \"좌표정보(x)\",\n",
    "# \"좌표정보(y)\",\n",
    "# \"소재지면적\",\n",
    "# \"영업장주변구분명\",\n",
    "# \"보증액\",\n",
    "# \"월세액\",\n",
    "# \"시설총규모\",\n",
    "# ]\n",
    "\n",
    "# df_res = df_res[list_col_order]\n",
    "# df_res.head()"
   ]
  },
  {
   "cell_type": "code",
   "execution_count": 16,
   "metadata": {},
   "outputs": [],
   "source": [
    "# df_res.to_csv(\"../data/일반음식점_인허가_정보_cleaned.csv\")\n"
   ]
  },
  {
   "attachments": {},
   "cell_type": "markdown",
   "metadata": {},
   "source": [
    "# 3차 전처리"
   ]
  },
  {
   "cell_type": "code",
   "execution_count": 17,
   "metadata": {},
   "outputs": [],
   "source": [
    "# df_res = pd.read_csv(\"../data/일반음식점_인허가_정보_cleaned.csv\", index_col=0)\n",
    "# df_res\n",
    "# df_res.head()"
   ]
  },
  {
   "cell_type": "code",
   "execution_count": 18,
   "metadata": {},
   "outputs": [],
   "source": [
    "# df_test = df_res[df_res[\"업태구분명\"] != df_res[\"위생업태명\"]]\n",
    "# df_test = df_test.dropna(subset=\"업태구분명\")\n",
    "# df_test.head()"
   ]
  },
  {
   "cell_type": "code",
   "execution_count": 19,
   "metadata": {},
   "outputs": [],
   "source": [
    "# df_res_0 = df_res.drop(\"위생업태명\",axis=1)\n",
    "# df_res_0.head()"
   ]
  },
  {
   "cell_type": "code",
   "execution_count": 20,
   "metadata": {},
   "outputs": [],
   "source": [
    "# df_res_0.to_csv(\"../data/일반음식점_인허가_정보_cleaned.csv\")"
   ]
  },
  {
   "attachments": {},
   "cell_type": "markdown",
   "metadata": {},
   "source": [
    "# 4차 전처리"
   ]
  },
  {
   "cell_type": "code",
   "execution_count": 21,
   "metadata": {},
   "outputs": [],
   "source": [
    "# df = pd.read_csv(\"../data/restaurants_cleaned.csv\",index_col=0)\n",
    "# df.head()"
   ]
  },
  {
   "cell_type": "code",
   "execution_count": 22,
   "metadata": {},
   "outputs": [],
   "source": [
    "# df = df.drop(\"소재지면적\",axis=1)\n",
    "# df.head()\n"
   ]
  },
  {
   "cell_type": "code",
   "execution_count": 23,
   "metadata": {},
   "outputs": [],
   "source": [
    "# list_col_order = {\n",
    "# \"사업장명\":\"name\",\n",
    "# \"업태구분명\":\"category\",\n",
    "# \"소재지전체주소\":\"address\",\n",
    "# \"시도\":\"sido\",\n",
    "# \"시구\":\"sigu\",\n",
    "# \"동읍면\":\"dongmyun\",\n",
    "# \"개방자치단체코드\":\"region_code\",\n",
    "# \"좌표정보(x)\":\"coord_x\",\n",
    "# \"좌표정보(y)\":\"coord_y\",\n",
    "# \"영업장주변구분명\":\"area\",\n",
    "# \"보증액\":\"deposit\",\n",
    "# \"월세액\":\"rent\",\n",
    "# \"시설총규모\":\"extent\",\n",
    "# }\n"
   ]
  },
  {
   "cell_type": "code",
   "execution_count": 24,
   "metadata": {},
   "outputs": [],
   "source": [
    "# df = df.rename(columns=list_col_order)\n",
    "# df.head()"
   ]
  },
  {
   "cell_type": "code",
   "execution_count": 25,
   "metadata": {},
   "outputs": [],
   "source": [
    "# df.to_csv(\"../data/restaurants_cleaned_0.csv\")"
   ]
  },
  {
   "cell_type": "code",
   "execution_count": 26,
   "metadata": {},
   "outputs": [],
   "source": [
    "# df.info()"
   ]
  },
  {
   "cell_type": "code",
   "execution_count": null,
   "metadata": {},
   "outputs": [],
   "source": [
    "# create table restaurants (\n",
    "#     -> id BIGINT(20) UNSIGNED NOT NULL AUTO_INCREMENT,\n",
    "#     -> name VARCHAR(255) NOT NULL,\n",
    "#     -> category VARCHAR(50),\n",
    "#     -> address VARCHAR(255),\n",
    "#     -> sido VARCHAR(50),\n",
    "#     -> sigu VARCHAR(50),\n",
    "#     -> dongmyun VARCHAR(50),\n",
    "#     -> region_code BIGINT(20) UNSIGNED,\n",
    "#     -> coord_x FLOAT(12,6),\n",
    "#     -> coord_y FLOAT(12,6),\n",
    "#     -> area VARCHAR(50),\n",
    "#     -> extent FLOAT(4,2));\n"
   ]
  },
  {
   "cell_type": "code",
   "execution_count": 27,
   "metadata": {},
   "outputs": [
    {
     "data": {
      "text/html": [
       "<div>\n",
       "<style scoped>\n",
       "    .dataframe tbody tr th:only-of-type {\n",
       "        vertical-align: middle;\n",
       "    }\n",
       "\n",
       "    .dataframe tbody tr th {\n",
       "        vertical-align: top;\n",
       "    }\n",
       "\n",
       "    .dataframe thead th {\n",
       "        text-align: right;\n",
       "    }\n",
       "</style>\n",
       "<table border=\"1\" class=\"dataframe\">\n",
       "  <thead>\n",
       "    <tr style=\"text-align: right;\">\n",
       "      <th></th>\n",
       "      <th>name</th>\n",
       "      <th>category</th>\n",
       "      <th>address</th>\n",
       "      <th>sido</th>\n",
       "      <th>sigu</th>\n",
       "      <th>dongmyun</th>\n",
       "      <th>region_code</th>\n",
       "      <th>coord_x</th>\n",
       "      <th>coord_y</th>\n",
       "      <th>area</th>\n",
       "      <th>deposit</th>\n",
       "      <th>rent</th>\n",
       "      <th>extent</th>\n",
       "    </tr>\n",
       "  </thead>\n",
       "  <tbody>\n",
       "    <tr>\n",
       "      <th>0</th>\n",
       "      <td>해피딜리버리(Happy delivery)</td>\n",
       "      <td>한식</td>\n",
       "      <td>경기도 성남시 수정구 신흥동 2562-2 1층</td>\n",
       "      <td>경기도</td>\n",
       "      <td>성남시</td>\n",
       "      <td>수정구</td>\n",
       "      <td>3780000</td>\n",
       "      <td>213117.592076</td>\n",
       "      <td>437825.856238</td>\n",
       "      <td>NaN</td>\n",
       "      <td>0.0</td>\n",
       "      <td>0.0</td>\n",
       "      <td>27.50</td>\n",
       "    </tr>\n",
       "    <tr>\n",
       "      <th>1</th>\n",
       "      <td>79대포 안성공도점</td>\n",
       "      <td>호프/통닭</td>\n",
       "      <td>경기도 안성시 공도읍 만정리 815-1 107호</td>\n",
       "      <td>경기도</td>\n",
       "      <td>안성시</td>\n",
       "      <td>공도읍</td>\n",
       "      <td>4080000</td>\n",
       "      <td>215021.103199</td>\n",
       "      <td>388727.667964</td>\n",
       "      <td>NaN</td>\n",
       "      <td>0.0</td>\n",
       "      <td>0.0</td>\n",
       "      <td>82.95</td>\n",
       "    </tr>\n",
       "    <tr>\n",
       "      <th>2</th>\n",
       "      <td>맛있어2(Masisso2)</td>\n",
       "      <td>한식</td>\n",
       "      <td>경기도 안성시 대덕면 내리 691-6 2층 일부</td>\n",
       "      <td>경기도</td>\n",
       "      <td>안성시</td>\n",
       "      <td>대덕면</td>\n",
       "      <td>4080000</td>\n",
       "      <td>219857.937502</td>\n",
       "      <td>388861.268106</td>\n",
       "      <td>NaN</td>\n",
       "      <td>0.0</td>\n",
       "      <td>0.0</td>\n",
       "      <td>19.34</td>\n",
       "    </tr>\n",
       "    <tr>\n",
       "      <th>3</th>\n",
       "      <td>푸드 딜리버리 영등포점</td>\n",
       "      <td>한식</td>\n",
       "      <td>서울특별시 영등포구 도림동 76-22</td>\n",
       "      <td>서울특별시</td>\n",
       "      <td>영등포구</td>\n",
       "      <td>도림동</td>\n",
       "      <td>3180000</td>\n",
       "      <td>191722.709234</td>\n",
       "      <td>445276.999732</td>\n",
       "      <td>NaN</td>\n",
       "      <td>0.0</td>\n",
       "      <td>0.0</td>\n",
       "      <td>40.00</td>\n",
       "    </tr>\n",
       "    <tr>\n",
       "      <th>4</th>\n",
       "      <td>수벙샌드위치</td>\n",
       "      <td>기타</td>\n",
       "      <td>경상남도 양산시 물금읍 물금리 878-6</td>\n",
       "      <td>경상남도</td>\n",
       "      <td>양산시</td>\n",
       "      <td>물금읍</td>\n",
       "      <td>5380000</td>\n",
       "      <td>380741.211631</td>\n",
       "      <td>202644.423181</td>\n",
       "      <td>NaN</td>\n",
       "      <td>0.0</td>\n",
       "      <td>0.0</td>\n",
       "      <td>65.00</td>\n",
       "    </tr>\n",
       "  </tbody>\n",
       "</table>\n",
       "</div>"
      ],
      "text/plain": [
       "                     name category                     address   sido  sigu  \\\n",
       "0  해피딜리버리(Happy delivery)       한식   경기도 성남시 수정구 신흥동 2562-2 1층    경기도   성남시   \n",
       "1              79대포 안성공도점    호프/통닭  경기도 안성시 공도읍 만정리 815-1 107호    경기도   안성시   \n",
       "2          맛있어2(Masisso2)       한식  경기도 안성시 대덕면 내리 691-6 2층 일부    경기도   안성시   \n",
       "3            푸드 딜리버리 영등포점       한식        서울특별시 영등포구 도림동 76-22  서울특별시  영등포구   \n",
       "4                  수벙샌드위치       기타      경상남도 양산시 물금읍 물금리 878-6   경상남도   양산시   \n",
       "\n",
       "  dongmyun  region_code        coord_x        coord_y area  deposit  rent  \\\n",
       "0      수정구      3780000  213117.592076  437825.856238  NaN      0.0   0.0   \n",
       "1      공도읍      4080000  215021.103199  388727.667964  NaN      0.0   0.0   \n",
       "2      대덕면      4080000  219857.937502  388861.268106  NaN      0.0   0.0   \n",
       "3      도림동      3180000  191722.709234  445276.999732  NaN      0.0   0.0   \n",
       "4      물금읍      5380000  380741.211631  202644.423181  NaN      0.0   0.0   \n",
       "\n",
       "   extent  \n",
       "0   27.50  \n",
       "1   82.95  \n",
       "2   19.34  \n",
       "3   40.00  \n",
       "4   65.00  "
      ]
     },
     "execution_count": 27,
     "metadata": {},
     "output_type": "execute_result"
    }
   ],
   "source": [
    "# df = pd.read_csv(\"../data/restaurants_cleaned_0.csv\",index_col=0)\n",
    "# df.head()"
   ]
  },
  {
   "cell_type": "code",
   "execution_count": 31,
   "metadata": {},
   "outputs": [
    {
     "data": {
      "text/html": [
       "<div>\n",
       "<style scoped>\n",
       "    .dataframe tbody tr th:only-of-type {\n",
       "        vertical-align: middle;\n",
       "    }\n",
       "\n",
       "    .dataframe tbody tr th {\n",
       "        vertical-align: top;\n",
       "    }\n",
       "\n",
       "    .dataframe thead th {\n",
       "        text-align: right;\n",
       "    }\n",
       "</style>\n",
       "<table border=\"1\" class=\"dataframe\">\n",
       "  <thead>\n",
       "    <tr style=\"text-align: right;\">\n",
       "      <th></th>\n",
       "      <th>name</th>\n",
       "      <th>category</th>\n",
       "      <th>address</th>\n",
       "      <th>sido</th>\n",
       "      <th>sigu</th>\n",
       "      <th>dongmyun</th>\n",
       "      <th>region_code</th>\n",
       "      <th>coord_x</th>\n",
       "      <th>coord_y</th>\n",
       "      <th>area</th>\n",
       "      <th>extent</th>\n",
       "    </tr>\n",
       "  </thead>\n",
       "  <tbody>\n",
       "    <tr>\n",
       "      <th>0</th>\n",
       "      <td>해피딜리버리(Happy delivery)</td>\n",
       "      <td>한식</td>\n",
       "      <td>경기도 성남시 수정구 신흥동 2562-2 1층</td>\n",
       "      <td>경기도</td>\n",
       "      <td>성남시</td>\n",
       "      <td>수정구</td>\n",
       "      <td>3780000</td>\n",
       "      <td>213117.592076</td>\n",
       "      <td>437825.856238</td>\n",
       "      <td>NaN</td>\n",
       "      <td>27.50</td>\n",
       "    </tr>\n",
       "    <tr>\n",
       "      <th>1</th>\n",
       "      <td>79대포 안성공도점</td>\n",
       "      <td>호프/통닭</td>\n",
       "      <td>경기도 안성시 공도읍 만정리 815-1 107호</td>\n",
       "      <td>경기도</td>\n",
       "      <td>안성시</td>\n",
       "      <td>공도읍</td>\n",
       "      <td>4080000</td>\n",
       "      <td>215021.103199</td>\n",
       "      <td>388727.667964</td>\n",
       "      <td>NaN</td>\n",
       "      <td>82.95</td>\n",
       "    </tr>\n",
       "    <tr>\n",
       "      <th>2</th>\n",
       "      <td>맛있어2(Masisso2)</td>\n",
       "      <td>한식</td>\n",
       "      <td>경기도 안성시 대덕면 내리 691-6 2층 일부</td>\n",
       "      <td>경기도</td>\n",
       "      <td>안성시</td>\n",
       "      <td>대덕면</td>\n",
       "      <td>4080000</td>\n",
       "      <td>219857.937502</td>\n",
       "      <td>388861.268106</td>\n",
       "      <td>NaN</td>\n",
       "      <td>19.34</td>\n",
       "    </tr>\n",
       "    <tr>\n",
       "      <th>3</th>\n",
       "      <td>푸드 딜리버리 영등포점</td>\n",
       "      <td>한식</td>\n",
       "      <td>서울특별시 영등포구 도림동 76-22</td>\n",
       "      <td>서울특별시</td>\n",
       "      <td>영등포구</td>\n",
       "      <td>도림동</td>\n",
       "      <td>3180000</td>\n",
       "      <td>191722.709234</td>\n",
       "      <td>445276.999732</td>\n",
       "      <td>NaN</td>\n",
       "      <td>40.00</td>\n",
       "    </tr>\n",
       "    <tr>\n",
       "      <th>4</th>\n",
       "      <td>수벙샌드위치</td>\n",
       "      <td>기타</td>\n",
       "      <td>경상남도 양산시 물금읍 물금리 878-6</td>\n",
       "      <td>경상남도</td>\n",
       "      <td>양산시</td>\n",
       "      <td>물금읍</td>\n",
       "      <td>5380000</td>\n",
       "      <td>380741.211631</td>\n",
       "      <td>202644.423181</td>\n",
       "      <td>NaN</td>\n",
       "      <td>65.00</td>\n",
       "    </tr>\n",
       "  </tbody>\n",
       "</table>\n",
       "</div>"
      ],
      "text/plain": [
       "                     name category                     address   sido  sigu  \\\n",
       "0  해피딜리버리(Happy delivery)       한식   경기도 성남시 수정구 신흥동 2562-2 1층    경기도   성남시   \n",
       "1              79대포 안성공도점    호프/통닭  경기도 안성시 공도읍 만정리 815-1 107호    경기도   안성시   \n",
       "2          맛있어2(Masisso2)       한식  경기도 안성시 대덕면 내리 691-6 2층 일부    경기도   안성시   \n",
       "3            푸드 딜리버리 영등포점       한식        서울특별시 영등포구 도림동 76-22  서울특별시  영등포구   \n",
       "4                  수벙샌드위치       기타      경상남도 양산시 물금읍 물금리 878-6   경상남도   양산시   \n",
       "\n",
       "  dongmyun  region_code        coord_x        coord_y area  extent  \n",
       "0      수정구      3780000  213117.592076  437825.856238  NaN   27.50  \n",
       "1      공도읍      4080000  215021.103199  388727.667964  NaN   82.95  \n",
       "2      대덕면      4080000  219857.937502  388861.268106  NaN   19.34  \n",
       "3      도림동      3180000  191722.709234  445276.999732  NaN   40.00  \n",
       "4      물금읍      5380000  380741.211631  202644.423181  NaN   65.00  "
      ]
     },
     "execution_count": 31,
     "metadata": {},
     "output_type": "execute_result"
    }
   ],
   "source": [
    "# df = df.drop([\"deposit\",\"rent\"],axis=1)\n",
    "# df.head()"
   ]
  },
  {
   "cell_type": "code",
   "execution_count": 32,
   "metadata": {},
   "outputs": [],
   "source": [
    "# df.to_csv(\"../data/restaurants_cleaned_1.csv\")"
   ]
  },
  {
   "attachments": {},
   "cell_type": "markdown",
   "metadata": {},
   "source": [
    "# 5차 전처리"
   ]
  },
  {
   "cell_type": "code",
   "execution_count": 33,
   "metadata": {},
   "outputs": [
    {
     "data": {
      "text/html": [
       "<div>\n",
       "<style scoped>\n",
       "    .dataframe tbody tr th:only-of-type {\n",
       "        vertical-align: middle;\n",
       "    }\n",
       "\n",
       "    .dataframe tbody tr th {\n",
       "        vertical-align: top;\n",
       "    }\n",
       "\n",
       "    .dataframe thead th {\n",
       "        text-align: right;\n",
       "    }\n",
       "</style>\n",
       "<table border=\"1\" class=\"dataframe\">\n",
       "  <thead>\n",
       "    <tr style=\"text-align: right;\">\n",
       "      <th></th>\n",
       "      <th>name</th>\n",
       "      <th>category</th>\n",
       "      <th>address</th>\n",
       "      <th>sido</th>\n",
       "      <th>sigu</th>\n",
       "      <th>dongmyun</th>\n",
       "      <th>region_code</th>\n",
       "      <th>coord_x</th>\n",
       "      <th>coord_y</th>\n",
       "      <th>area</th>\n",
       "      <th>extent</th>\n",
       "    </tr>\n",
       "  </thead>\n",
       "  <tbody>\n",
       "    <tr>\n",
       "      <th>0</th>\n",
       "      <td>해피딜리버리(Happy delivery)</td>\n",
       "      <td>한식</td>\n",
       "      <td>경기도 성남시 수정구 신흥동 2562-2 1층</td>\n",
       "      <td>경기도</td>\n",
       "      <td>성남시</td>\n",
       "      <td>수정구</td>\n",
       "      <td>3780000</td>\n",
       "      <td>213117.592076</td>\n",
       "      <td>437825.856238</td>\n",
       "      <td>NaN</td>\n",
       "      <td>27.50</td>\n",
       "    </tr>\n",
       "    <tr>\n",
       "      <th>1</th>\n",
       "      <td>79대포 안성공도점</td>\n",
       "      <td>호프/통닭</td>\n",
       "      <td>경기도 안성시 공도읍 만정리 815-1 107호</td>\n",
       "      <td>경기도</td>\n",
       "      <td>안성시</td>\n",
       "      <td>공도읍</td>\n",
       "      <td>4080000</td>\n",
       "      <td>215021.103199</td>\n",
       "      <td>388727.667964</td>\n",
       "      <td>NaN</td>\n",
       "      <td>82.95</td>\n",
       "    </tr>\n",
       "    <tr>\n",
       "      <th>2</th>\n",
       "      <td>맛있어2(Masisso2)</td>\n",
       "      <td>한식</td>\n",
       "      <td>경기도 안성시 대덕면 내리 691-6 2층 일부</td>\n",
       "      <td>경기도</td>\n",
       "      <td>안성시</td>\n",
       "      <td>대덕면</td>\n",
       "      <td>4080000</td>\n",
       "      <td>219857.937502</td>\n",
       "      <td>388861.268106</td>\n",
       "      <td>NaN</td>\n",
       "      <td>19.34</td>\n",
       "    </tr>\n",
       "    <tr>\n",
       "      <th>3</th>\n",
       "      <td>푸드 딜리버리 영등포점</td>\n",
       "      <td>한식</td>\n",
       "      <td>서울특별시 영등포구 도림동 76-22</td>\n",
       "      <td>서울특별시</td>\n",
       "      <td>영등포구</td>\n",
       "      <td>도림동</td>\n",
       "      <td>3180000</td>\n",
       "      <td>191722.709234</td>\n",
       "      <td>445276.999732</td>\n",
       "      <td>NaN</td>\n",
       "      <td>40.00</td>\n",
       "    </tr>\n",
       "    <tr>\n",
       "      <th>4</th>\n",
       "      <td>수벙샌드위치</td>\n",
       "      <td>기타</td>\n",
       "      <td>경상남도 양산시 물금읍 물금리 878-6</td>\n",
       "      <td>경상남도</td>\n",
       "      <td>양산시</td>\n",
       "      <td>물금읍</td>\n",
       "      <td>5380000</td>\n",
       "      <td>380741.211631</td>\n",
       "      <td>202644.423181</td>\n",
       "      <td>NaN</td>\n",
       "      <td>65.00</td>\n",
       "    </tr>\n",
       "  </tbody>\n",
       "</table>\n",
       "</div>"
      ],
      "text/plain": [
       "                     name category                     address   sido  sigu  \\\n",
       "0  해피딜리버리(Happy delivery)       한식   경기도 성남시 수정구 신흥동 2562-2 1층    경기도   성남시   \n",
       "1              79대포 안성공도점    호프/통닭  경기도 안성시 공도읍 만정리 815-1 107호    경기도   안성시   \n",
       "2          맛있어2(Masisso2)       한식  경기도 안성시 대덕면 내리 691-6 2층 일부    경기도   안성시   \n",
       "3            푸드 딜리버리 영등포점       한식        서울특별시 영등포구 도림동 76-22  서울특별시  영등포구   \n",
       "4                  수벙샌드위치       기타      경상남도 양산시 물금읍 물금리 878-6   경상남도   양산시   \n",
       "\n",
       "  dongmyun  region_code        coord_x        coord_y area  extent  \n",
       "0      수정구      3780000  213117.592076  437825.856238  NaN   27.50  \n",
       "1      공도읍      4080000  215021.103199  388727.667964  NaN   82.95  \n",
       "2      대덕면      4080000  219857.937502  388861.268106  NaN   19.34  \n",
       "3      도림동      3180000  191722.709234  445276.999732  NaN   40.00  \n",
       "4      물금읍      5380000  380741.211631  202644.423181  NaN   65.00  "
      ]
     },
     "execution_count": 33,
     "metadata": {},
     "output_type": "execute_result"
    }
   ],
   "source": [
    "df = pd.read_csv(\"../data/restaurants_cleaned_1.csv\",index_col=0)\n",
    "df.head()"
   ]
  },
  {
   "cell_type": "code",
   "execution_count": 34,
   "metadata": {},
   "outputs": [],
   "source": [
    "def split_addr(x):\n",
    "    addr = x.split()\n",
    "    # size = len(addr)\n",
    "    sido, sigu, sigu2, dongmyun = \"\", \"\", \"\", \"\"\n",
    "    for area in addr:\n",
    "        if dongmyun != \"\": break\n",
    "\n",
    "        lw = area[-1]\n",
    "        if lw == \"도\":\n",
    "            if sido == \"\":\n",
    "                sido = area\n",
    "        elif lw == \"시\":\n",
    "            if sido == \"\":\n",
    "                sido = area\n",
    "            elif sigu == \"\":\n",
    "                sigu = area\n",
    "            elif sigu2 == \"\":\n",
    "                sigu2 = area\n",
    "        elif lw == \"구\":\n",
    "            if sigu == \"\":\n",
    "                sigu = area\n",
    "            elif sigu2 == \"\":\n",
    "                sigu2 = area\n",
    "        elif lw in [\"동\",\"읍\",\"면\"]:\n",
    "            if dongmyun == \"\":\n",
    "                dongmyun = area\n",
    "    \n",
    "    return sido, sigu, sigu2, dongmyun    "
   ]
  },
  {
   "cell_type": "code",
   "execution_count": 35,
   "metadata": {},
   "outputs": [
    {
     "data": {
      "text/plain": [
       "('경기도', '용인시', '수지구', '죽전3동')"
      ]
     },
     "execution_count": 35,
     "metadata": {},
     "output_type": "execute_result"
    }
   ],
   "source": [
    "str_test = \"세종특별자치시 고운동 2002\"\n",
    "str_test = \"경기도 안산시 상록구 이동\"\n",
    "str_test = \"서울특별시 종로구 혜화동\"\n",
    "str_test = \"경기도 파주시 문산읍\"\n",
    "str_test = \"경기도 용인시 수지구 죽전3동\"\n",
    "split_addr(str_test)"
   ]
  },
  {
   "cell_type": "code",
   "execution_count": 36,
   "metadata": {},
   "outputs": [
    {
     "data": {
      "text/html": [
       "<div>\n",
       "<style scoped>\n",
       "    .dataframe tbody tr th:only-of-type {\n",
       "        vertical-align: middle;\n",
       "    }\n",
       "\n",
       "    .dataframe tbody tr th {\n",
       "        vertical-align: top;\n",
       "    }\n",
       "\n",
       "    .dataframe thead th {\n",
       "        text-align: right;\n",
       "    }\n",
       "</style>\n",
       "<table border=\"1\" class=\"dataframe\">\n",
       "  <thead>\n",
       "    <tr style=\"text-align: right;\">\n",
       "      <th></th>\n",
       "      <th>name</th>\n",
       "      <th>category</th>\n",
       "      <th>address</th>\n",
       "      <th>sido</th>\n",
       "      <th>sigu</th>\n",
       "      <th>dongmyun</th>\n",
       "      <th>region_code</th>\n",
       "      <th>coord_x</th>\n",
       "      <th>coord_y</th>\n",
       "      <th>area</th>\n",
       "      <th>extent</th>\n",
       "      <th>sigu2</th>\n",
       "    </tr>\n",
       "  </thead>\n",
       "  <tbody>\n",
       "    <tr>\n",
       "      <th>0</th>\n",
       "      <td>해피딜리버리(Happy delivery)</td>\n",
       "      <td>한식</td>\n",
       "      <td>경기도 성남시 수정구 신흥동 2562-2 1층</td>\n",
       "      <td>경기도</td>\n",
       "      <td>성남시</td>\n",
       "      <td>신흥동</td>\n",
       "      <td>3780000</td>\n",
       "      <td>213117.592076</td>\n",
       "      <td>437825.856238</td>\n",
       "      <td>NaN</td>\n",
       "      <td>27.50</td>\n",
       "      <td>수정구</td>\n",
       "    </tr>\n",
       "    <tr>\n",
       "      <th>1</th>\n",
       "      <td>79대포 안성공도점</td>\n",
       "      <td>호프/통닭</td>\n",
       "      <td>경기도 안성시 공도읍 만정리 815-1 107호</td>\n",
       "      <td>경기도</td>\n",
       "      <td>안성시</td>\n",
       "      <td>공도읍</td>\n",
       "      <td>4080000</td>\n",
       "      <td>215021.103199</td>\n",
       "      <td>388727.667964</td>\n",
       "      <td>NaN</td>\n",
       "      <td>82.95</td>\n",
       "      <td></td>\n",
       "    </tr>\n",
       "    <tr>\n",
       "      <th>2</th>\n",
       "      <td>맛있어2(Masisso2)</td>\n",
       "      <td>한식</td>\n",
       "      <td>경기도 안성시 대덕면 내리 691-6 2층 일부</td>\n",
       "      <td>경기도</td>\n",
       "      <td>안성시</td>\n",
       "      <td>대덕면</td>\n",
       "      <td>4080000</td>\n",
       "      <td>219857.937502</td>\n",
       "      <td>388861.268106</td>\n",
       "      <td>NaN</td>\n",
       "      <td>19.34</td>\n",
       "      <td></td>\n",
       "    </tr>\n",
       "    <tr>\n",
       "      <th>3</th>\n",
       "      <td>푸드 딜리버리 영등포점</td>\n",
       "      <td>한식</td>\n",
       "      <td>서울특별시 영등포구 도림동 76-22</td>\n",
       "      <td>서울특별시</td>\n",
       "      <td>영등포구</td>\n",
       "      <td>도림동</td>\n",
       "      <td>3180000</td>\n",
       "      <td>191722.709234</td>\n",
       "      <td>445276.999732</td>\n",
       "      <td>NaN</td>\n",
       "      <td>40.00</td>\n",
       "      <td></td>\n",
       "    </tr>\n",
       "    <tr>\n",
       "      <th>4</th>\n",
       "      <td>수벙샌드위치</td>\n",
       "      <td>기타</td>\n",
       "      <td>경상남도 양산시 물금읍 물금리 878-6</td>\n",
       "      <td>경상남도</td>\n",
       "      <td>양산시</td>\n",
       "      <td>물금읍</td>\n",
       "      <td>5380000</td>\n",
       "      <td>380741.211631</td>\n",
       "      <td>202644.423181</td>\n",
       "      <td>NaN</td>\n",
       "      <td>65.00</td>\n",
       "      <td></td>\n",
       "    </tr>\n",
       "  </tbody>\n",
       "</table>\n",
       "</div>"
      ],
      "text/plain": [
       "                     name category                     address   sido  sigu  \\\n",
       "0  해피딜리버리(Happy delivery)       한식   경기도 성남시 수정구 신흥동 2562-2 1층    경기도   성남시   \n",
       "1              79대포 안성공도점    호프/통닭  경기도 안성시 공도읍 만정리 815-1 107호    경기도   안성시   \n",
       "2          맛있어2(Masisso2)       한식  경기도 안성시 대덕면 내리 691-6 2층 일부    경기도   안성시   \n",
       "3            푸드 딜리버리 영등포점       한식        서울특별시 영등포구 도림동 76-22  서울특별시  영등포구   \n",
       "4                  수벙샌드위치       기타      경상남도 양산시 물금읍 물금리 878-6   경상남도   양산시   \n",
       "\n",
       "  dongmyun  region_code        coord_x        coord_y area  extent sigu2  \n",
       "0      신흥동      3780000  213117.592076  437825.856238  NaN   27.50   수정구  \n",
       "1      공도읍      4080000  215021.103199  388727.667964  NaN   82.95        \n",
       "2      대덕면      4080000  219857.937502  388861.268106  NaN   19.34        \n",
       "3      도림동      3180000  191722.709234  445276.999732  NaN   40.00        \n",
       "4      물금읍      5380000  380741.211631  202644.423181  NaN   65.00        "
      ]
     },
     "execution_count": 36,
     "metadata": {},
     "output_type": "execute_result"
    }
   ],
   "source": [
    "df[\"sido\"],df[\"sigu\"],df[\"sigu2\"],df[\"dongmyun\"] = zip(*df[\"address\"].map(split_addr))\n",
    "df.head()"
   ]
  },
  {
   "cell_type": "code",
   "execution_count": null,
   "metadata": {},
   "outputs": [],
   "source": [
    "list_col_order = [\n",
    "\"name\",\n",
    "\"category\",\n",
    "\"address\",\n",
    "\"sido\",\n",
    "\"sigu\",\n",
    "\"sigu2\",\n",
    "\"dongmyun\",\n",
    "\"region_code\",\n",
    "\"corrd_x\",\n",
    "\"coord_y\",\n",
    "\"area\",\n",
    "\"extent\"\n",
    "]"
   ]
  }
 ],
 "metadata": {
  "kernelspec": {
   "display_name": "menupan",
   "language": "python",
   "name": "python3"
  },
  "language_info": {
   "codemirror_mode": {
    "name": "ipython",
    "version": 3
   },
   "file_extension": ".py",
   "mimetype": "text/x-python",
   "name": "python",
   "nbconvert_exporter": "python",
   "pygments_lexer": "ipython3",
   "version": "3.8.15 (default, Nov 24 2022, 15:19:38) \n[GCC 11.2.0]"
  },
  "orig_nbformat": 4,
  "vscode": {
   "interpreter": {
    "hash": "047e56d8c0dd1b93694a15fddd6f6fdcc018353434d11db449e425cd0e2e1607"
   }
  }
 },
 "nbformat": 4,
 "nbformat_minor": 2
}
