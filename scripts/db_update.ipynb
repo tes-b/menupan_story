{
 "cells": [
  {
   "cell_type": "code",
   "execution_count": 1,
   "metadata": {},
   "outputs": [],
   "source": [
    "import pymysql\n",
    "import pandas as pd\n",
    "from sqlalchemy import create_engine"
   ]
  },
  {
   "cell_type": "code",
   "execution_count": 2,
   "metadata": {},
   "outputs": [],
   "source": [
    "user_id = \"testid\"\n",
    "user_pw = \"mysql1234\"\n",
    "host_addr = \"localhost\"\n",
    "db_name = \"menupan_main\"\n",
    "db_connection_str = f'mysql+pymysql://{user_id}:{user_pw}@{host_addr}/{db_name}'\n",
    "db_connection = create_engine(db_connection_str)\n",
    "conn = db_connection.connect()"
   ]
  },
  {
   "cell_type": "code",
   "execution_count": 4,
   "metadata": {},
   "outputs": [
    {
     "data": {
      "text/html": [
       "<div>\n",
       "<style scoped>\n",
       "    .dataframe tbody tr th:only-of-type {\n",
       "        vertical-align: middle;\n",
       "    }\n",
       "\n",
       "    .dataframe tbody tr th {\n",
       "        vertical-align: top;\n",
       "    }\n",
       "\n",
       "    .dataframe thead th {\n",
       "        text-align: right;\n",
       "    }\n",
       "</style>\n",
       "<table border=\"1\" class=\"dataframe\">\n",
       "  <thead>\n",
       "    <tr style=\"text-align: right;\">\n",
       "      <th></th>\n",
       "      <th>name</th>\n",
       "      <th>category</th>\n",
       "      <th>address</th>\n",
       "      <th>sido</th>\n",
       "      <th>sigu</th>\n",
       "      <th>dongmyun</th>\n",
       "      <th>region_code</th>\n",
       "      <th>coord_x</th>\n",
       "      <th>coord_y</th>\n",
       "      <th>area</th>\n",
       "      <th>extent</th>\n",
       "    </tr>\n",
       "  </thead>\n",
       "  <tbody>\n",
       "    <tr>\n",
       "      <th>0</th>\n",
       "      <td>해피딜리버리(Happy delivery)</td>\n",
       "      <td>한식</td>\n",
       "      <td>경기도 성남시 수정구 신흥동 2562-2 1층</td>\n",
       "      <td>경기도</td>\n",
       "      <td>성남시</td>\n",
       "      <td>수정구</td>\n",
       "      <td>3780000</td>\n",
       "      <td>213117.592076</td>\n",
       "      <td>437825.856238</td>\n",
       "      <td>NaN</td>\n",
       "      <td>27.50</td>\n",
       "    </tr>\n",
       "    <tr>\n",
       "      <th>1</th>\n",
       "      <td>79대포 안성공도점</td>\n",
       "      <td>호프/통닭</td>\n",
       "      <td>경기도 안성시 공도읍 만정리 815-1 107호</td>\n",
       "      <td>경기도</td>\n",
       "      <td>안성시</td>\n",
       "      <td>공도읍</td>\n",
       "      <td>4080000</td>\n",
       "      <td>215021.103199</td>\n",
       "      <td>388727.667964</td>\n",
       "      <td>NaN</td>\n",
       "      <td>82.95</td>\n",
       "    </tr>\n",
       "    <tr>\n",
       "      <th>2</th>\n",
       "      <td>맛있어2(Masisso2)</td>\n",
       "      <td>한식</td>\n",
       "      <td>경기도 안성시 대덕면 내리 691-6 2층 일부</td>\n",
       "      <td>경기도</td>\n",
       "      <td>안성시</td>\n",
       "      <td>대덕면</td>\n",
       "      <td>4080000</td>\n",
       "      <td>219857.937502</td>\n",
       "      <td>388861.268106</td>\n",
       "      <td>NaN</td>\n",
       "      <td>19.34</td>\n",
       "    </tr>\n",
       "    <tr>\n",
       "      <th>3</th>\n",
       "      <td>푸드 딜리버리 영등포점</td>\n",
       "      <td>한식</td>\n",
       "      <td>서울특별시 영등포구 도림동 76-22</td>\n",
       "      <td>서울특별시</td>\n",
       "      <td>영등포구</td>\n",
       "      <td>도림동</td>\n",
       "      <td>3180000</td>\n",
       "      <td>191722.709234</td>\n",
       "      <td>445276.999732</td>\n",
       "      <td>NaN</td>\n",
       "      <td>40.00</td>\n",
       "    </tr>\n",
       "    <tr>\n",
       "      <th>4</th>\n",
       "      <td>수벙샌드위치</td>\n",
       "      <td>기타</td>\n",
       "      <td>경상남도 양산시 물금읍 물금리 878-6</td>\n",
       "      <td>경상남도</td>\n",
       "      <td>양산시</td>\n",
       "      <td>물금읍</td>\n",
       "      <td>5380000</td>\n",
       "      <td>380741.211631</td>\n",
       "      <td>202644.423181</td>\n",
       "      <td>NaN</td>\n",
       "      <td>65.00</td>\n",
       "    </tr>\n",
       "  </tbody>\n",
       "</table>\n",
       "</div>"
      ],
      "text/plain": [
       "                     name category                     address   sido  sigu  \\\n",
       "0  해피딜리버리(Happy delivery)       한식   경기도 성남시 수정구 신흥동 2562-2 1층    경기도   성남시   \n",
       "1              79대포 안성공도점    호프/통닭  경기도 안성시 공도읍 만정리 815-1 107호    경기도   안성시   \n",
       "2          맛있어2(Masisso2)       한식  경기도 안성시 대덕면 내리 691-6 2층 일부    경기도   안성시   \n",
       "3            푸드 딜리버리 영등포점       한식        서울특별시 영등포구 도림동 76-22  서울특별시  영등포구   \n",
       "4                  수벙샌드위치       기타      경상남도 양산시 물금읍 물금리 878-6   경상남도   양산시   \n",
       "\n",
       "  dongmyun  region_code        coord_x        coord_y area  extent  \n",
       "0      수정구      3780000  213117.592076  437825.856238  NaN   27.50  \n",
       "1      공도읍      4080000  215021.103199  388727.667964  NaN   82.95  \n",
       "2      대덕면      4080000  219857.937502  388861.268106  NaN   19.34  \n",
       "3      도림동      3180000  191722.709234  445276.999732  NaN   40.00  \n",
       "4      물금읍      5380000  380741.211631  202644.423181  NaN   65.00  "
      ]
     },
     "execution_count": 4,
     "metadata": {},
     "output_type": "execute_result"
    }
   ],
   "source": [
    "df = pd.read_csv(\"../data/restaurants_cleaned_1.csv\",index_col=0)\n",
    "df.head()"
   ]
  },
  {
   "cell_type": "code",
   "execution_count": null,
   "metadata": {},
   "outputs": [],
   "source": [
    "df.to_sql(name='restaurant', con=db_connection, if_exists='append', index=False)"
   ]
  }
 ],
 "metadata": {
  "kernelspec": {
   "display_name": "menupan",
   "language": "python",
   "name": "python3"
  },
  "language_info": {
   "codemirror_mode": {
    "name": "ipython",
    "version": 3
   },
   "file_extension": ".py",
   "mimetype": "text/x-python",
   "name": "python",
   "nbconvert_exporter": "python",
   "pygments_lexer": "ipython3",
   "version": "3.8.15 (default, Nov 24 2022, 15:19:38) \n[GCC 11.2.0]"
  },
  "orig_nbformat": 4,
  "vscode": {
   "interpreter": {
    "hash": "047e56d8c0dd1b93694a15fddd6f6fdcc018353434d11db449e425cd0e2e1607"
   }
  }
 },
 "nbformat": 4,
 "nbformat_minor": 2
}
